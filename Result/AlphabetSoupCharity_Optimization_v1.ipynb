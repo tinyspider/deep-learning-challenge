{
 "cells": [
  {
   "cell_type": "markdown",
   "metadata": {},
   "source": [
    "## Preprocessing"
   ]
  },
  {
   "cell_type": "code",
   "execution_count": 1,
   "metadata": {},
   "outputs": [
    {
     "name": "stderr",
     "output_type": "stream",
     "text": [
      "/tmp/ipykernel_71300/3125967289.py:4: DeprecationWarning: \n",
      "Pyarrow will become a required dependency of pandas in the next major release of pandas (pandas 3.0),\n",
      "(to allow more performant data types, such as the Arrow string type, and better interoperability with other libraries)\n",
      "but was not found to be installed on your system.\n",
      "If this would cause problems for you,\n",
      "please provide us feedback at https://github.com/pandas-dev/pandas/issues/54466\n",
      "        \n",
      "  import pandas as pd\n",
      "2024-01-25 19:46:54.667764: I tensorflow/core/util/port.cc:113] oneDNN custom operations are on. You may see slightly different numerical results due to floating-point round-off errors from different computation orders. To turn them off, set the environment variable `TF_ENABLE_ONEDNN_OPTS=0`.\n",
      "2024-01-25 19:46:54.686094: E external/local_xla/xla/stream_executor/cuda/cuda_dnn.cc:9261] Unable to register cuDNN factory: Attempting to register factory for plugin cuDNN when one has already been registered\n",
      "2024-01-25 19:46:54.686112: E external/local_xla/xla/stream_executor/cuda/cuda_fft.cc:607] Unable to register cuFFT factory: Attempting to register factory for plugin cuFFT when one has already been registered\n",
      "2024-01-25 19:46:54.686601: E external/local_xla/xla/stream_executor/cuda/cuda_blas.cc:1515] Unable to register cuBLAS factory: Attempting to register factory for plugin cuBLAS when one has already been registered\n",
      "2024-01-25 19:46:54.689653: I tensorflow/core/platform/cpu_feature_guard.cc:182] This TensorFlow binary is optimized to use available CPU instructions in performance-critical operations.\n",
      "To enable the following instructions: AVX2 AVX_VNNI FMA, in other operations, rebuild TensorFlow with the appropriate compiler flags.\n",
      "2024-01-25 19:46:55.043658: W tensorflow/compiler/tf2tensorrt/utils/py_utils.cc:38] TF-TRT Warning: Could not find TensorRT\n"
     ]
    },
    {
     "data": {
      "text/html": [
       "<div>\n",
       "<style scoped>\n",
       "    .dataframe tbody tr th:only-of-type {\n",
       "        vertical-align: middle;\n",
       "    }\n",
       "\n",
       "    .dataframe tbody tr th {\n",
       "        vertical-align: top;\n",
       "    }\n",
       "\n",
       "    .dataframe thead th {\n",
       "        text-align: right;\n",
       "    }\n",
       "</style>\n",
       "<table border=\"1\" class=\"dataframe\">\n",
       "  <thead>\n",
       "    <tr style=\"text-align: right;\">\n",
       "      <th></th>\n",
       "      <th>EIN</th>\n",
       "      <th>NAME</th>\n",
       "      <th>APPLICATION_TYPE</th>\n",
       "      <th>AFFILIATION</th>\n",
       "      <th>CLASSIFICATION</th>\n",
       "      <th>USE_CASE</th>\n",
       "      <th>ORGANIZATION</th>\n",
       "      <th>STATUS</th>\n",
       "      <th>INCOME_AMT</th>\n",
       "      <th>SPECIAL_CONSIDERATIONS</th>\n",
       "      <th>ASK_AMT</th>\n",
       "      <th>IS_SUCCESSFUL</th>\n",
       "    </tr>\n",
       "  </thead>\n",
       "  <tbody>\n",
       "    <tr>\n",
       "      <th>0</th>\n",
       "      <td>10520599</td>\n",
       "      <td>BLUE KNIGHTS MOTORCYCLE CLUB</td>\n",
       "      <td>T10</td>\n",
       "      <td>Independent</td>\n",
       "      <td>C1000</td>\n",
       "      <td>ProductDev</td>\n",
       "      <td>Association</td>\n",
       "      <td>1</td>\n",
       "      <td>0</td>\n",
       "      <td>N</td>\n",
       "      <td>5000</td>\n",
       "      <td>1</td>\n",
       "    </tr>\n",
       "    <tr>\n",
       "      <th>1</th>\n",
       "      <td>10531628</td>\n",
       "      <td>AMERICAN CHESAPEAKE CLUB CHARITABLE TR</td>\n",
       "      <td>T3</td>\n",
       "      <td>Independent</td>\n",
       "      <td>C2000</td>\n",
       "      <td>Preservation</td>\n",
       "      <td>Co-operative</td>\n",
       "      <td>1</td>\n",
       "      <td>1-9999</td>\n",
       "      <td>N</td>\n",
       "      <td>108590</td>\n",
       "      <td>1</td>\n",
       "    </tr>\n",
       "    <tr>\n",
       "      <th>2</th>\n",
       "      <td>10547893</td>\n",
       "      <td>ST CLOUD PROFESSIONAL FIREFIGHTERS</td>\n",
       "      <td>T5</td>\n",
       "      <td>CompanySponsored</td>\n",
       "      <td>C3000</td>\n",
       "      <td>ProductDev</td>\n",
       "      <td>Association</td>\n",
       "      <td>1</td>\n",
       "      <td>0</td>\n",
       "      <td>N</td>\n",
       "      <td>5000</td>\n",
       "      <td>0</td>\n",
       "    </tr>\n",
       "    <tr>\n",
       "      <th>3</th>\n",
       "      <td>10553066</td>\n",
       "      <td>SOUTHSIDE ATHLETIC ASSOCIATION</td>\n",
       "      <td>T3</td>\n",
       "      <td>CompanySponsored</td>\n",
       "      <td>C2000</td>\n",
       "      <td>Preservation</td>\n",
       "      <td>Trust</td>\n",
       "      <td>1</td>\n",
       "      <td>10000-24999</td>\n",
       "      <td>N</td>\n",
       "      <td>6692</td>\n",
       "      <td>1</td>\n",
       "    </tr>\n",
       "    <tr>\n",
       "      <th>4</th>\n",
       "      <td>10556103</td>\n",
       "      <td>GENETIC RESEARCH INSTITUTE OF THE DESERT</td>\n",
       "      <td>T3</td>\n",
       "      <td>Independent</td>\n",
       "      <td>C1000</td>\n",
       "      <td>Heathcare</td>\n",
       "      <td>Trust</td>\n",
       "      <td>1</td>\n",
       "      <td>100000-499999</td>\n",
       "      <td>N</td>\n",
       "      <td>142590</td>\n",
       "      <td>1</td>\n",
       "    </tr>\n",
       "  </tbody>\n",
       "</table>\n",
       "</div>"
      ],
      "text/plain": [
       "        EIN                                      NAME APPLICATION_TYPE  \\\n",
       "0  10520599              BLUE KNIGHTS MOTORCYCLE CLUB              T10   \n",
       "1  10531628    AMERICAN CHESAPEAKE CLUB CHARITABLE TR               T3   \n",
       "2  10547893        ST CLOUD PROFESSIONAL FIREFIGHTERS               T5   \n",
       "3  10553066            SOUTHSIDE ATHLETIC ASSOCIATION               T3   \n",
       "4  10556103  GENETIC RESEARCH INSTITUTE OF THE DESERT               T3   \n",
       "\n",
       "        AFFILIATION CLASSIFICATION      USE_CASE  ORGANIZATION  STATUS  \\\n",
       "0       Independent          C1000    ProductDev   Association       1   \n",
       "1       Independent          C2000  Preservation  Co-operative       1   \n",
       "2  CompanySponsored          C3000    ProductDev   Association       1   \n",
       "3  CompanySponsored          C2000  Preservation         Trust       1   \n",
       "4       Independent          C1000     Heathcare         Trust       1   \n",
       "\n",
       "      INCOME_AMT SPECIAL_CONSIDERATIONS  ASK_AMT  IS_SUCCESSFUL  \n",
       "0              0                      N     5000              1  \n",
       "1         1-9999                      N   108590              1  \n",
       "2              0                      N     5000              0  \n",
       "3    10000-24999                      N     6692              1  \n",
       "4  100000-499999                      N   142590              1  "
      ]
     },
     "execution_count": 1,
     "metadata": {},
     "output_type": "execute_result"
    }
   ],
   "source": [
    "# Import our dependencies\n",
    "from sklearn.model_selection import train_test_split\n",
    "from sklearn.preprocessing import StandardScaler\n",
    "import pandas as pd\n",
    "import tensorflow as tf\n",
    "\n",
    "#  Import and read the charity_data.csv.\n",
    "import pandas as pd \n",
    "application_df = pd.read_csv(\"https://static.bc-edx.com/data/dl-1-2/m21/lms/starter/charity_data.csv\")\n",
    "application_df.head()"
   ]
  },
  {
   "cell_type": "code",
   "execution_count": 2,
   "metadata": {},
   "outputs": [],
   "source": [
    "# Drop the non-beneficial ID columns, 'EIN' and 'NAME'.\n",
    "application_df.drop(['EIN','NAME'],axis=1,inplace=True)"
   ]
  },
  {
   "cell_type": "code",
   "execution_count": 3,
   "metadata": {},
   "outputs": [
    {
     "data": {
      "text/plain": [
       "APPLICATION_TYPE            17\n",
       "AFFILIATION                  6\n",
       "CLASSIFICATION              71\n",
       "USE_CASE                     5\n",
       "ORGANIZATION                 4\n",
       "STATUS                       2\n",
       "INCOME_AMT                   9\n",
       "SPECIAL_CONSIDERATIONS       2\n",
       "ASK_AMT                   8747\n",
       "IS_SUCCESSFUL                2\n",
       "dtype: int64"
      ]
     },
     "execution_count": 3,
     "metadata": {},
     "output_type": "execute_result"
    }
   ],
   "source": [
    "# Determine the number of unique values in each column.\n",
    "application_df.nunique()"
   ]
  },
  {
   "cell_type": "code",
   "execution_count": 4,
   "metadata": {},
   "outputs": [
    {
     "data": {
      "text/plain": [
       "APPLICATION_TYPE\n",
       "T3     27037\n",
       "T4      1542\n",
       "T6      1216\n",
       "T5      1173\n",
       "T19     1065\n",
       "T8       737\n",
       "T7       725\n",
       "T10      528\n",
       "T9       156\n",
       "T13       66\n",
       "T12       27\n",
       "T2        16\n",
       "T25        3\n",
       "T14        3\n",
       "T29        2\n",
       "T15        2\n",
       "T17        1\n",
       "Name: count, dtype: int64"
      ]
     },
     "execution_count": 4,
     "metadata": {},
     "output_type": "execute_result"
    }
   ],
   "source": [
    "# Look at APPLICATION_TYPE value counts for binning\n",
    "app_type_counts = application_df[\"APPLICATION_TYPE\"].value_counts()\n",
    "app_type_counts"
   ]
  },
  {
   "cell_type": "code",
   "execution_count": 5,
   "metadata": {},
   "outputs": [
    {
     "data": {
      "text/plain": [
       "APPLICATION_TYPE\n",
       "T3       27037\n",
       "T4        1542\n",
       "T6        1216\n",
       "T5        1173\n",
       "T19       1065\n",
       "T8         737\n",
       "T7         725\n",
       "T10        528\n",
       "T9         156\n",
       "Other      120\n",
       "Name: count, dtype: int64"
      ]
     },
     "execution_count": 5,
     "metadata": {},
     "output_type": "execute_result"
    }
   ],
   "source": [
    "# Choose a cutoff value and create a list of application types to be replaced\n",
    "# use the variable name `application_types_to_replace`\n",
    "application_types_to_replace = list(app_type_counts[app_type_counts < 100].index)\n",
    "\n",
    "# Replace in dataframe\n",
    "for app in application_types_to_replace:\n",
    "    application_df['APPLICATION_TYPE'] = application_df['APPLICATION_TYPE'].replace(app,\"Other\")\n",
    "\n",
    "# Check to make sure binning was successful\n",
    "application_df['APPLICATION_TYPE'].value_counts()"
   ]
  },
  {
   "cell_type": "code",
   "execution_count": 6,
   "metadata": {},
   "outputs": [
    {
     "data": {
      "text/plain": [
       "CLASSIFICATION\n",
       "C1000    17326\n",
       "C2000     6074\n",
       "C1200     4837\n",
       "C3000     1918\n",
       "C2100     1883\n",
       "         ...  \n",
       "C4120        1\n",
       "C8210        1\n",
       "C2561        1\n",
       "C4500        1\n",
       "C2150        1\n",
       "Name: count, Length: 71, dtype: int64"
      ]
     },
     "execution_count": 6,
     "metadata": {},
     "output_type": "execute_result"
    }
   ],
   "source": [
    "# Look at CLASSIFICATION value counts for binning\n",
    "application_df['CLASSIFICATION'].value_counts()"
   ]
  },
  {
   "cell_type": "code",
   "execution_count": 7,
   "metadata": {},
   "outputs": [
    {
     "name": "stdout",
     "output_type": "stream",
     "text": [
      "C1000 17326\n",
      "C2000 6074\n",
      "C1200 4837\n",
      "C3000 1918\n",
      "C2100 1883\n",
      "C7000 777\n",
      "C1700 287\n",
      "C4000 194\n",
      "C5000 116\n",
      "C1270 114\n",
      "C2700 104\n",
      "C2800 95\n",
      "C7100 75\n",
      "C1300 58\n",
      "C1280 50\n",
      "C1230 36\n",
      "C1400 34\n",
      "C7200 32\n",
      "C2300 32\n",
      "C1240 30\n",
      "C8000 20\n",
      "C7120 18\n",
      "C1500 16\n",
      "C1800 15\n",
      "C6000 15\n",
      "C1250 14\n",
      "C8200 11\n",
      "C1238 10\n",
      "C1278 10\n",
      "C1235 9\n",
      "C1237 9\n",
      "C7210 7\n",
      "C2400 6\n",
      "C1720 6\n",
      "C4100 6\n",
      "C1257 5\n",
      "C1600 5\n",
      "C1260 3\n",
      "C2710 3\n",
      "C0 3\n",
      "C3200 2\n",
      "C1234 2\n",
      "C1246 2\n",
      "C1267 2\n",
      "C1256 2\n"
     ]
    }
   ],
   "source": [
    "# You may find it helpful to look at CLASSIFICATION value counts >1'\n",
    "value_counts = application_df['CLASSIFICATION'].value_counts()\n",
    "df_value_counts = pd.DataFrame(value_counts)\n",
    "df_value_counts = df_value_counts.reset_index()\n",
    "df_value_counts.columns = ['unique_values', 'counts for course_difficulty'] # change column names\n",
    "for index, row in df_value_counts.iterrows():\n",
    "    if row['counts for course_difficulty'] > 1:\n",
    "        print(row['unique_values'], row['counts for course_difficulty'])\n",
    "    \n"
   ]
  },
  {
   "cell_type": "code",
   "execution_count": 8,
   "metadata": {},
   "outputs": [
    {
     "data": {
      "text/plain": [
       "CLASSIFICATION\n",
       "C1000    17326\n",
       "C2000     6074\n",
       "C1200     4837\n",
       "C3000     1918\n",
       "C2100     1883\n",
       "C7000      777\n",
       "Other      669\n",
       "C1700      287\n",
       "C4000      194\n",
       "C5000      116\n",
       "C1270      114\n",
       "C2700      104\n",
       "Name: count, dtype: int64"
      ]
     },
     "execution_count": 8,
     "metadata": {},
     "output_type": "execute_result"
    }
   ],
   "source": [
    "# Choose a cutoff value and create a list of classifications to be replaced\n",
    "# use the variable name `classifications_to_replace`\n",
    "classifications_to_replace = []\n",
    "for index, row in df_value_counts.iterrows():\n",
    "    if row['counts for course_difficulty'] < 100:\n",
    "        classifications_to_replace.append(row['unique_values'])\n",
    "\n",
    "# Replace in dataframe\n",
    "for cls in classifications_to_replace:\n",
    "    application_df['CLASSIFICATION'] = application_df['CLASSIFICATION'].replace(cls,\"Other\")\n",
    "    \n",
    "# Check to make sure binning was successful\n",
    "application_df['CLASSIFICATION'].value_counts()"
   ]
  },
  {
   "cell_type": "code",
   "execution_count": 9,
   "metadata": {},
   "outputs": [],
   "source": [
    "# Convert categorical data to numeric with `pd.get_dummies`\n",
    "application_df = pd.get_dummies(application_df)"
   ]
  },
  {
   "cell_type": "code",
   "execution_count": 10,
   "metadata": {},
   "outputs": [],
   "source": [
    "# Split our preprocessed data into our features and target arrays\n",
    "X = application_df.drop('IS_SUCCESSFUL', axis=1).values\n",
    "y = application_df['IS_SUCCESSFUL'].values\n",
    "# Split the preprocessed data into a training and testing dataset\n",
    "X_train, X_test, y_train, y_test = train_test_split(X, y, random_state = 5)"
   ]
  },
  {
   "cell_type": "code",
   "execution_count": 11,
   "metadata": {},
   "outputs": [],
   "source": [
    "# Create a StandardScaler instances\n",
    "scaler = StandardScaler()\n",
    "\n",
    "# Fit the StandardScaler\n",
    "X_scaler = scaler.fit(X_train)\n",
    "\n",
    "# Scale the data\n",
    "X_train_scaled = X_scaler.transform(X_train)\n",
    "X_test_scaled = X_scaler.transform(X_test)"
   ]
  },
  {
   "cell_type": "code",
   "execution_count": 12,
   "metadata": {},
   "outputs": [
    {
     "name": "stdout",
     "output_type": "stream",
     "text": [
      "50\n"
     ]
    }
   ],
   "source": [
    "print(len(X_train_scaled[0]))"
   ]
  },
  {
   "cell_type": "markdown",
   "metadata": {},
   "source": [
    "## Compile, Train and Evaluate the Model"
   ]
  },
  {
   "cell_type": "code",
   "execution_count": 13,
   "metadata": {},
   "outputs": [
    {
     "name": "stderr",
     "output_type": "stream",
     "text": [
      "2024-01-25 19:46:56.628310: I external/local_xla/xla/stream_executor/cuda/cuda_executor.cc:887] could not open file to read NUMA node: /sys/bus/pci/devices/0000:01:00.0/numa_node\n",
      "Your kernel may have been built without NUMA support.\n",
      "2024-01-25 19:46:56.640905: I external/local_xla/xla/stream_executor/cuda/cuda_executor.cc:887] could not open file to read NUMA node: /sys/bus/pci/devices/0000:01:00.0/numa_node\n",
      "Your kernel may have been built without NUMA support.\n",
      "2024-01-25 19:46:56.640934: I external/local_xla/xla/stream_executor/cuda/cuda_executor.cc:887] could not open file to read NUMA node: /sys/bus/pci/devices/0000:01:00.0/numa_node\n",
      "Your kernel may have been built without NUMA support.\n",
      "2024-01-25 19:46:56.643195: I external/local_xla/xla/stream_executor/cuda/cuda_executor.cc:887] could not open file to read NUMA node: /sys/bus/pci/devices/0000:01:00.0/numa_node\n",
      "Your kernel may have been built without NUMA support.\n",
      "2024-01-25 19:46:56.643234: I external/local_xla/xla/stream_executor/cuda/cuda_executor.cc:887] could not open file to read NUMA node: /sys/bus/pci/devices/0000:01:00.0/numa_node\n",
      "Your kernel may have been built without NUMA support.\n",
      "2024-01-25 19:46:56.643246: I external/local_xla/xla/stream_executor/cuda/cuda_executor.cc:887] could not open file to read NUMA node: /sys/bus/pci/devices/0000:01:00.0/numa_node\n",
      "Your kernel may have been built without NUMA support.\n",
      "2024-01-25 19:46:56.800836: I external/local_xla/xla/stream_executor/cuda/cuda_executor.cc:887] could not open file to read NUMA node: /sys/bus/pci/devices/0000:01:00.0/numa_node\n",
      "Your kernel may have been built without NUMA support.\n",
      "2024-01-25 19:46:56.800868: I external/local_xla/xla/stream_executor/cuda/cuda_executor.cc:887] could not open file to read NUMA node: /sys/bus/pci/devices/0000:01:00.0/numa_node\n",
      "Your kernel may have been built without NUMA support.\n",
      "2024-01-25 19:46:56.800872: I tensorflow/core/common_runtime/gpu/gpu_device.cc:2022] Could not identify NUMA node of platform GPU id 0, defaulting to 0.  Your kernel may not have been built with NUMA support.\n",
      "2024-01-25 19:46:56.800891: I external/local_xla/xla/stream_executor/cuda/cuda_executor.cc:887] could not open file to read NUMA node: /sys/bus/pci/devices/0000:01:00.0/numa_node\n",
      "Your kernel may have been built without NUMA support.\n",
      "2024-01-25 19:46:56.800902: I tensorflow/core/common_runtime/gpu/gpu_device.cc:1929] Created device /job:localhost/replica:0/task:0/device:GPU:0 with 21472 MB memory:  -> device: 0, name: NVIDIA GeForce RTX 4090, pci bus id: 0000:01:00.0, compute capability: 8.9\n"
     ]
    },
    {
     "name": "stdout",
     "output_type": "stream",
     "text": [
      "Model: \"sequential\"\n",
      "_________________________________________________________________\n",
      " Layer (type)                Output Shape              Param #   \n",
      "=================================================================\n",
      " dense (Dense)               (None, 200)               10200     \n",
      "                                                                 \n",
      " dense_1 (Dense)             (None, 200)               40200     \n",
      "                                                                 \n",
      " dense_2 (Dense)             (None, 100)               20100     \n",
      "                                                                 \n",
      " dense_3 (Dense)             (None, 50)                5050      \n",
      "                                                                 \n",
      " dense_4 (Dense)             (None, 25)                1275      \n",
      "                                                                 \n",
      " dense_5 (Dense)             (None, 1)                 26        \n",
      "                                                                 \n",
      "=================================================================\n",
      "Total params: 76851 (300.20 KB)\n",
      "Trainable params: 76851 (300.20 KB)\n",
      "Non-trainable params: 0 (0.00 Byte)\n",
      "_________________________________________________________________\n"
     ]
    }
   ],
   "source": [
    "# Define the model - deep neural net, i.e., the number of input features and hidden nodes for each layer.\n",
    "num_input_features = len(X_train_scaled[0])\n",
    "\n",
    "nodes_layer_in = 200\n",
    "nodes_layer1 = 200\n",
    "nodes_layer2 = 100\n",
    "nodes_layer3 = 50\n",
    "nodes_layer4 = 25\n",
    "\n",
    "nodes_layer_out = 1\n",
    "\n",
    "nn = tf.keras.models.Sequential()\n",
    "\n",
    "#Hidden layers\n",
    "nn.add(tf.keras.layers.Dense(units = nodes_layer_in, input_dim = num_input_features, activation =\"relu\"))\n",
    "nn.add(tf.keras.layers.Dense(units = nodes_layer1, activation =\"sigmoid\"))\n",
    "nn.add(tf.keras.layers.Dense(units = nodes_layer2, activation =\"sigmoid\"))\n",
    "nn.add(tf.keras.layers.Dense(units = nodes_layer3, activation =\"sigmoid\"))\n",
    "nn.add(tf.keras.layers.Dense(units = nodes_layer4, activation =\"sigmoid\"))\n",
    "# Output layer\n",
    "nn.add(tf.keras.layers.Dense(units = nodes_layer_out, activation =\"sigmoid\"))\n",
    "# Check the structure of the model\n",
    "nn.summary()"
   ]
  },
  {
   "cell_type": "code",
   "execution_count": 14,
   "metadata": {},
   "outputs": [],
   "source": [
    "# Compile the model\n",
    "opt = tf.keras.optimizers.Adam()\n",
    "nn.compile(loss='binary_crossentropy', optimizer=opt, metrics=['accuracy'])"
   ]
  },
  {
   "cell_type": "code",
   "execution_count": 15,
   "metadata": {},
   "outputs": [
    {
     "name": "stdout",
     "output_type": "stream",
     "text": [
      "Epoch 1/100\n"
     ]
    },
    {
     "name": "stderr",
     "output_type": "stream",
     "text": [
      "2024-01-25 19:46:57.767798: I external/local_tsl/tsl/platform/default/subprocess.cc:304] Start cannot spawn child process: Permission denied\n",
      "2024-01-25 19:46:57.956619: I external/local_xla/xla/service/service.cc:168] XLA service 0x7f40e0893e90 initialized for platform CUDA (this does not guarantee that XLA will be used). Devices:\n",
      "2024-01-25 19:46:57.956647: I external/local_xla/xla/service/service.cc:176]   StreamExecutor device (0): NVIDIA GeForce RTX 4090, Compute Capability 8.9\n",
      "2024-01-25 19:46:57.959524: I tensorflow/compiler/mlir/tensorflow/utils/dump_mlir_util.cc:269] disabling MLIR crash reproducer, set env var `MLIR_CRASH_REPRODUCER_DIRECTORY` to enable.\n",
      "2024-01-25 19:46:57.968242: I external/local_xla/xla/stream_executor/cuda/cuda_dnn.cc:454] Loaded cuDNN version 8904\n",
      "WARNING: All log messages before absl::InitializeLog() is called are written to STDERR\n",
      "I0000 00:00:1706230018.000821   71431 device_compiler.h:186] Compiled cluster using XLA!  This line is logged at most once for the lifetime of the process.\n"
     ]
    },
    {
     "name": "stdout",
     "output_type": "stream",
     "text": [
      "804/804 [==============================] - 3s 3ms/step - loss: 0.5833 - accuracy: 0.7166\n",
      "Epoch 2/100\n",
      "804/804 [==============================] - 2s 3ms/step - loss: 0.5564 - accuracy: 0.7278\n",
      "Epoch 3/100\n",
      "804/804 [==============================] - 2s 3ms/step - loss: 0.5520 - accuracy: 0.7310\n",
      "Epoch 4/100\n",
      "804/804 [==============================] - 2s 3ms/step - loss: 0.5492 - accuracy: 0.7324\n",
      "Epoch 5/100\n",
      "804/804 [==============================] - 3s 3ms/step - loss: 0.5475 - accuracy: 0.7323\n",
      "Epoch 6/100\n",
      "804/804 [==============================] - 2s 3ms/step - loss: 0.5457 - accuracy: 0.7332\n",
      "Epoch 7/100\n",
      "804/804 [==============================] - 2s 3ms/step - loss: 0.5440 - accuracy: 0.7340\n",
      "Epoch 8/100\n",
      "804/804 [==============================] - 2s 3ms/step - loss: 0.5435 - accuracy: 0.7356\n",
      "Epoch 9/100\n",
      "804/804 [==============================] - 2s 3ms/step - loss: 0.5428 - accuracy: 0.7347\n",
      "Epoch 10/100\n",
      "804/804 [==============================] - 2s 3ms/step - loss: 0.5420 - accuracy: 0.7352\n",
      "Epoch 11/100\n",
      "804/804 [==============================] - 2s 3ms/step - loss: 0.5413 - accuracy: 0.7349\n",
      "Epoch 12/100\n",
      "804/804 [==============================] - 2s 3ms/step - loss: 0.5414 - accuracy: 0.7353\n",
      "Epoch 13/100\n",
      "804/804 [==============================] - 3s 3ms/step - loss: 0.5402 - accuracy: 0.7344\n",
      "Epoch 14/100\n",
      "804/804 [==============================] - 3s 3ms/step - loss: 0.5400 - accuracy: 0.7360\n",
      "Epoch 15/100\n",
      "804/804 [==============================] - 3s 3ms/step - loss: 0.5391 - accuracy: 0.7357\n",
      "Epoch 16/100\n",
      "804/804 [==============================] - 2s 3ms/step - loss: 0.5383 - accuracy: 0.7360\n",
      "Epoch 17/100\n",
      "804/804 [==============================] - 2s 3ms/step - loss: 0.5391 - accuracy: 0.7355\n",
      "Epoch 18/100\n",
      "804/804 [==============================] - 3s 3ms/step - loss: 0.5375 - accuracy: 0.7361\n",
      "Epoch 19/100\n",
      "804/804 [==============================] - 2s 3ms/step - loss: 0.5372 - accuracy: 0.7366\n",
      "Epoch 20/100\n",
      "804/804 [==============================] - 2s 3ms/step - loss: 0.5368 - accuracy: 0.7373\n",
      "Epoch 21/100\n",
      "804/804 [==============================] - 2s 3ms/step - loss: 0.5363 - accuracy: 0.7378\n",
      "Epoch 22/100\n",
      "804/804 [==============================] - 2s 3ms/step - loss: 0.5358 - accuracy: 0.7368\n",
      "Epoch 23/100\n",
      "804/804 [==============================] - 2s 3ms/step - loss: 0.5355 - accuracy: 0.7376\n",
      "Epoch 24/100\n",
      "804/804 [==============================] - 2s 3ms/step - loss: 0.5354 - accuracy: 0.7372\n",
      "Epoch 25/100\n",
      "804/804 [==============================] - 3s 3ms/step - loss: 0.5354 - accuracy: 0.7374\n",
      "Epoch 26/100\n",
      "804/804 [==============================] - 2s 3ms/step - loss: 0.5348 - accuracy: 0.7381\n",
      "Epoch 27/100\n",
      "804/804 [==============================] - 2s 3ms/step - loss: 0.5341 - accuracy: 0.7377\n",
      "Epoch 28/100\n",
      "804/804 [==============================] - 2s 3ms/step - loss: 0.5335 - accuracy: 0.7378\n",
      "Epoch 29/100\n",
      "804/804 [==============================] - 2s 3ms/step - loss: 0.5338 - accuracy: 0.7379\n",
      "Epoch 30/100\n",
      "804/804 [==============================] - 2s 3ms/step - loss: 0.5327 - accuracy: 0.7402\n",
      "Epoch 31/100\n",
      "804/804 [==============================] - 2s 3ms/step - loss: 0.5334 - accuracy: 0.7379\n",
      "Epoch 32/100\n",
      "804/804 [==============================] - 2s 3ms/step - loss: 0.5331 - accuracy: 0.7389\n",
      "Epoch 33/100\n",
      "804/804 [==============================] - 2s 3ms/step - loss: 0.5332 - accuracy: 0.7389\n",
      "Epoch 34/100\n",
      "804/804 [==============================] - 2s 3ms/step - loss: 0.5333 - accuracy: 0.7389\n",
      "Epoch 35/100\n",
      "804/804 [==============================] - 3s 3ms/step - loss: 0.5324 - accuracy: 0.7382\n",
      "Epoch 36/100\n",
      "804/804 [==============================] - 2s 3ms/step - loss: 0.5317 - accuracy: 0.7390\n",
      "Epoch 37/100\n",
      "804/804 [==============================] - 2s 3ms/step - loss: 0.5315 - accuracy: 0.7393\n",
      "Epoch 38/100\n",
      "804/804 [==============================] - 2s 3ms/step - loss: 0.5314 - accuracy: 0.7395\n",
      "Epoch 39/100\n",
      "804/804 [==============================] - 2s 3ms/step - loss: 0.5312 - accuracy: 0.7397\n",
      "Epoch 40/100\n",
      "804/804 [==============================] - 2s 3ms/step - loss: 0.5309 - accuracy: 0.7402\n",
      "Epoch 41/100\n",
      "804/804 [==============================] - 2s 3ms/step - loss: 0.5309 - accuracy: 0.7402\n",
      "Epoch 42/100\n",
      "804/804 [==============================] - 2s 3ms/step - loss: 0.5306 - accuracy: 0.7409\n",
      "Epoch 43/100\n",
      "804/804 [==============================] - 2s 3ms/step - loss: 0.5303 - accuracy: 0.7379\n",
      "Epoch 44/100\n",
      "804/804 [==============================] - 2s 3ms/step - loss: 0.5302 - accuracy: 0.7397\n",
      "Epoch 45/100\n",
      "804/804 [==============================] - 3s 3ms/step - loss: 0.5302 - accuracy: 0.7399\n",
      "Epoch 46/100\n",
      "804/804 [==============================] - 2s 3ms/step - loss: 0.5308 - accuracy: 0.7399\n",
      "Epoch 47/100\n",
      "804/804 [==============================] - 2s 3ms/step - loss: 0.5304 - accuracy: 0.7404\n",
      "Epoch 48/100\n",
      "804/804 [==============================] - 2s 3ms/step - loss: 0.5296 - accuracy: 0.7400\n",
      "Epoch 49/100\n",
      "804/804 [==============================] - 2s 3ms/step - loss: 0.5294 - accuracy: 0.7416\n",
      "Epoch 50/100\n",
      "804/804 [==============================] - 2s 3ms/step - loss: 0.5294 - accuracy: 0.7400\n",
      "Epoch 51/100\n",
      "804/804 [==============================] - 2s 3ms/step - loss: 0.5296 - accuracy: 0.7404\n",
      "Epoch 52/100\n",
      "804/804 [==============================] - 3s 3ms/step - loss: 0.5289 - accuracy: 0.7418\n",
      "Epoch 53/100\n",
      "804/804 [==============================] - 2s 3ms/step - loss: 0.5291 - accuracy: 0.7403\n",
      "Epoch 54/100\n",
      "804/804 [==============================] - 2s 3ms/step - loss: 0.5287 - accuracy: 0.7411\n",
      "Epoch 55/100\n",
      "804/804 [==============================] - 2s 3ms/step - loss: 0.5292 - accuracy: 0.7405\n",
      "Epoch 56/100\n",
      "804/804 [==============================] - 2s 3ms/step - loss: 0.5283 - accuracy: 0.7411\n",
      "Epoch 57/100\n",
      "804/804 [==============================] - 2s 3ms/step - loss: 0.5286 - accuracy: 0.7407\n",
      "Epoch 58/100\n",
      "804/804 [==============================] - 2s 3ms/step - loss: 0.5285 - accuracy: 0.7416\n",
      "Epoch 59/100\n",
      "804/804 [==============================] - 2s 3ms/step - loss: 0.5279 - accuracy: 0.7415\n",
      "Epoch 60/100\n",
      "804/804 [==============================] - 2s 3ms/step - loss: 0.5281 - accuracy: 0.7403\n",
      "Epoch 61/100\n",
      "804/804 [==============================] - 2s 3ms/step - loss: 0.5280 - accuracy: 0.7413\n",
      "Epoch 62/100\n",
      "804/804 [==============================] - 2s 3ms/step - loss: 0.5273 - accuracy: 0.7410\n",
      "Epoch 63/100\n",
      "804/804 [==============================] - 2s 2ms/step - loss: 0.5272 - accuracy: 0.7423\n",
      "Epoch 64/100\n",
      "804/804 [==============================] - 2s 2ms/step - loss: 0.5277 - accuracy: 0.7424\n",
      "Epoch 65/100\n",
      "804/804 [==============================] - 2s 3ms/step - loss: 0.5276 - accuracy: 0.7413\n",
      "Epoch 66/100\n",
      "804/804 [==============================] - 2s 3ms/step - loss: 0.5271 - accuracy: 0.7411\n",
      "Epoch 67/100\n",
      "804/804 [==============================] - 2s 3ms/step - loss: 0.5268 - accuracy: 0.7426\n",
      "Epoch 68/100\n",
      "804/804 [==============================] - 2s 2ms/step - loss: 0.5283 - accuracy: 0.7404\n",
      "Epoch 69/100\n",
      "804/804 [==============================] - 2s 2ms/step - loss: 0.5268 - accuracy: 0.7406\n",
      "Epoch 70/100\n",
      "804/804 [==============================] - 2s 3ms/step - loss: 0.5267 - accuracy: 0.7404\n",
      "Epoch 71/100\n",
      "804/804 [==============================] - 2s 3ms/step - loss: 0.5268 - accuracy: 0.7418\n",
      "Epoch 72/100\n",
      "804/804 [==============================] - 2s 3ms/step - loss: 0.5266 - accuracy: 0.7417\n",
      "Epoch 73/100\n",
      "804/804 [==============================] - 2s 3ms/step - loss: 0.5264 - accuracy: 0.7413\n",
      "Epoch 74/100\n",
      "804/804 [==============================] - 2s 2ms/step - loss: 0.5261 - accuracy: 0.7414\n",
      "Epoch 75/100\n",
      "804/804 [==============================] - 2s 2ms/step - loss: 0.5271 - accuracy: 0.7423\n",
      "Epoch 76/100\n",
      "804/804 [==============================] - 2s 2ms/step - loss: 0.5264 - accuracy: 0.7415\n",
      "Epoch 77/100\n",
      "804/804 [==============================] - 2s 2ms/step - loss: 0.5261 - accuracy: 0.7421\n",
      "Epoch 78/100\n",
      "804/804 [==============================] - 2s 2ms/step - loss: 0.5267 - accuracy: 0.7421\n",
      "Epoch 79/100\n",
      "804/804 [==============================] - 2s 3ms/step - loss: 0.5262 - accuracy: 0.7425\n",
      "Epoch 80/100\n",
      "804/804 [==============================] - 2s 3ms/step - loss: 0.5258 - accuracy: 0.7416\n",
      "Epoch 81/100\n",
      "804/804 [==============================] - 2s 3ms/step - loss: 0.5256 - accuracy: 0.7423\n",
      "Epoch 82/100\n",
      "804/804 [==============================] - 2s 3ms/step - loss: 0.5252 - accuracy: 0.7425\n",
      "Epoch 83/100\n",
      "804/804 [==============================] - 2s 3ms/step - loss: 0.5258 - accuracy: 0.7418\n",
      "Epoch 84/100\n",
      "804/804 [==============================] - 2s 3ms/step - loss: 0.5257 - accuracy: 0.7433\n",
      "Epoch 85/100\n",
      "804/804 [==============================] - 2s 3ms/step - loss: 0.5259 - accuracy: 0.7425\n",
      "Epoch 86/100\n",
      "804/804 [==============================] - 2s 3ms/step - loss: 0.5258 - accuracy: 0.7425\n",
      "Epoch 87/100\n",
      "804/804 [==============================] - 2s 3ms/step - loss: 0.5255 - accuracy: 0.7426\n",
      "Epoch 88/100\n",
      "804/804 [==============================] - 2s 3ms/step - loss: 0.5255 - accuracy: 0.7419\n",
      "Epoch 89/100\n",
      "804/804 [==============================] - 2s 3ms/step - loss: 0.5253 - accuracy: 0.7426\n",
      "Epoch 90/100\n",
      "804/804 [==============================] - 2s 3ms/step - loss: 0.5254 - accuracy: 0.7422\n",
      "Epoch 91/100\n",
      "804/804 [==============================] - 2s 3ms/step - loss: 0.5252 - accuracy: 0.7425\n",
      "Epoch 92/100\n",
      "804/804 [==============================] - 2s 3ms/step - loss: 0.5250 - accuracy: 0.7425\n",
      "Epoch 93/100\n",
      "804/804 [==============================] - 2s 3ms/step - loss: 0.5250 - accuracy: 0.7435\n",
      "Epoch 94/100\n",
      "804/804 [==============================] - 3s 3ms/step - loss: 0.5247 - accuracy: 0.7423\n",
      "Epoch 95/100\n",
      "804/804 [==============================] - 2s 3ms/step - loss: 0.5247 - accuracy: 0.7416\n",
      "Epoch 96/100\n",
      "804/804 [==============================] - 2s 3ms/step - loss: 0.5247 - accuracy: 0.7434\n",
      "Epoch 97/100\n",
      "804/804 [==============================] - 2s 3ms/step - loss: 0.5257 - accuracy: 0.7425\n",
      "Epoch 98/100\n",
      "804/804 [==============================] - 2s 3ms/step - loss: 0.5252 - accuracy: 0.7423\n",
      "Epoch 99/100\n",
      "804/804 [==============================] - 2s 3ms/step - loss: 0.5251 - accuracy: 0.7424\n",
      "Epoch 100/100\n",
      "804/804 [==============================] - 2s 3ms/step - loss: 0.5252 - accuracy: 0.7426\n"
     ]
    }
   ],
   "source": [
    "# Train the model\n",
    "\n",
    "fit_model = nn.fit(X_train_scaled,y_train,epochs=100)"
   ]
  },
  {
   "cell_type": "code",
   "execution_count": 16,
   "metadata": {},
   "outputs": [
    {
     "name": "stdout",
     "output_type": "stream",
     "text": [
      "268/268 - 0s - loss: 0.5754 - accuracy: 0.7277 - 410ms/epoch - 2ms/step\n",
      "Loss: 0.5754250288009644, Accuracy: 0.7276967763900757\n"
     ]
    }
   ],
   "source": [
    "# Evaluate the model using the test data\n",
    "model_loss, model_accuracy = nn.evaluate(X_test_scaled,y_test,verbose=2)\n",
    "print(f\"Loss: {model_loss}, Accuracy: {model_accuracy}\")"
   ]
  },
  {
   "cell_type": "code",
   "execution_count": 17,
   "metadata": {},
   "outputs": [
    {
     "name": "stderr",
     "output_type": "stream",
     "text": [
      "/home/zw3/.local/lib/python3.10/site-packages/keras/src/engine/training.py:3103: UserWarning: You are saving your model as an HDF5 file via `model.save()`. This file format is considered legacy. We recommend using instead the native Keras format, e.g. `model.save('my_model.keras')`.\n",
      "  saving_api.save_model(\n"
     ]
    }
   ],
   "source": [
    "# Export our model to HDF5 file\n",
    "nn.save('AlphabetSoupCharity_Optimization_v1.h5')"
   ]
  }
 ],
 "metadata": {
  "kernelspec": {
   "display_name": "Python 3",
   "language": "python",
   "name": "python3"
  },
  "language_info": {
   "codemirror_mode": {
    "name": "ipython",
    "version": 3
   },
   "file_extension": ".py",
   "mimetype": "text/x-python",
   "name": "python",
   "nbconvert_exporter": "python",
   "pygments_lexer": "ipython3",
   "version": "3.10.12"
  },
  "vscode": {
   "interpreter": {
    "hash": "31f2aee4e71d21fbe5cf8b01ff0e069b9275f58929596ceb00d14d90e3e16cd6"
   }
  }
 },
 "nbformat": 4,
 "nbformat_minor": 4
}
